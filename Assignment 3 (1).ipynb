{
 "cells": [
  {
   "cell_type": "markdown",
   "metadata": {},
   "source": [
    "# Assignment 3"
   ]
  },
  {
   "cell_type": "markdown",
   "metadata": {},
   "source": [
    "### Write a function to count the number 4 in a given list."
   ]
  },
  {
   "cell_type": "code",
   "execution_count": 10,
   "metadata": {},
   "outputs": [
    {
     "name": "stdout",
     "output_type": "stream",
     "text": [
      "3\n"
     ]
    }
   ],
   "source": [
    "def list_count_4(nums):\n",
    "    \n",
    "    count = 0  \n",
    "    for num in nums:\n",
    "        if num == 4:\n",
    "            count = count + 1\n",
    "\n",
    "    return count\n",
    "\n",
    "print(list_count_4([1, 4, 6, 4, 7, 4]))\n"
   ]
  },
  {
   "cell_type": "markdown",
   "metadata": {},
   "source": [
    "### write a  function to check whether a number is divisible by another number."
   ]
  },
  {
   "cell_type": "code",
   "execution_count": 40,
   "metadata": {},
   "outputs": [
    {
     "name": "stdout",
     "output_type": "stream",
     "text": [
      "Numbers that are divisible by 3 are: [15, 9, 81, 27, 99, 102]\n"
     ]
    }
   ],
   "source": [
    "list1 = [15, 9, 81, 27, 99, 102]\n",
    "\n",
    "result = list (filter (lambda x: (x % 3 == 0), list1))\n",
    "\n",
    "print (\"Numbers that are divisible by 3 are:\", result)\n"
   ]
  },
  {
   "cell_type": "markdown",
   "metadata": {},
   "source": [
    "### write a function to find the maximum and minimum numbers from a sequence of numbers."
   ]
  },
  {
   "cell_type": "code",
   "execution_count": 64,
   "metadata": {},
   "outputs": [
    {
     "name": "stdout",
     "output_type": "stream",
     "text": [
      "Maximum of the list 77\n",
      "Minimum of the list 2\n"
     ]
    }
   ],
   "source": [
    "def max_check(x):\n",
    "    \n",
    "    max_val = x[0]\n",
    "    \n",
    "    for check in x:\n",
    "        \n",
    "        if check > max_val:\n",
    "            \n",
    "            max_val = check \n",
    "            \n",
    "    return max_val\n",
    "\n",
    "def min_check(x):\n",
    "    \n",
    "    min_val = x[0]\n",
    "    \n",
    "    for check in x:\n",
    "        \n",
    "        if check < min_val:\n",
    "            \n",
    "            min_val = check\n",
    "            \n",
    "    return min_val\n",
    "\n",
    "mylist = [2, 6, 8, 14, 3, 77, 63]\n",
    "\n",
    "print(\"Maximum of the list\" , max_check(mylist))\n",
    "\n",
    "print(\"Minimum of the list\", min_check(mylist))"
   ]
  },
  {
   "cell_type": "markdown",
   "metadata": {},
   "source": [
    " Write a Python function that takes two lists and returns True if they have at least one common member."
   ]
  },
  {
   "cell_type": "code",
   "execution_count": 65,
   "metadata": {},
   "outputs": [
    {
     "name": "stdout",
     "output_type": "stream",
     "text": [
      "True\n",
      "False\n"
     ]
    }
   ],
   "source": [
    "def common_data(list1, list2):\n",
    "    \n",
    "    result = False\n",
    "    \n",
    "    for x in list1:\n",
    "        \n",
    "        for y in list2:\n",
    "            \n",
    "            if x == y:\n",
    "                \n",
    "                result = True\n",
    "                \n",
    "    return result\n",
    "\n",
    "print(common_data([1,2,3,4,5], [5,6,7,8,9]))\n",
    "\n",
    "print(common_data([1,2,3,4,5], [6,7,8,9]))\n"
   ]
  },
  {
   "cell_type": "markdown",
   "metadata": {},
   "source": [
    "### Write a Python function to calculate the factorial of a number (a non-negative integer). The function accepts the number from the user"
   ]
  },
  {
   "cell_type": "code",
   "execution_count": 13,
   "metadata": {},
   "outputs": [
    {
     "name": "stdout",
     "output_type": "stream",
     "text": [
      "Input a number to compute the factiorial : 5\n",
      "120\n"
     ]
    }
   ],
   "source": [
    "def factorial(n):\n",
    "    \n",
    "    if n == 0:\n",
    "        \n",
    "        return 1\n",
    "    \n",
    "    else:\n",
    "        \n",
    "        return n * factorial(n-1)\n",
    "    \n",
    "n=int(input(\"Input a number to compute the factiorial : \"))\n",
    "\n",
    "print(factorial(n))\n"
   ]
  },
  {
   "cell_type": "markdown",
   "metadata": {},
   "source": [
    " Write a Python function to check whether a number is in a given range.\n",
    "\n",
    " The range is from 3 to 11\n"
   ]
  },
  {
   "cell_type": "code",
   "execution_count": 66,
   "metadata": {},
   "outputs": [
    {
     "name": "stdout",
     "output_type": "stream",
     "text": [
      " 8 is in the range\n"
     ]
    }
   ],
   "source": [
    "def test_range(n):\n",
    "    \n",
    "    if n in range(3,9):\n",
    "        \n",
    "        print( \" %s is in the range\"%str(n))\n",
    "        \n",
    "    else :\n",
    "        \n",
    "        print(\"The number is outside the given range.\")\n",
    "        \n",
    "test_range(8)\n"
   ]
  },
  {
   "cell_type": "markdown",
   "metadata": {},
   "source": [
    " Write a  program to create the multiplication table (from 1 to 10) of a number."
   ]
  },
  {
   "cell_type": "code",
   "execution_count": 34,
   "metadata": {},
   "outputs": [
    {
     "name": "stdout",
     "output_type": "stream",
     "text": [
      "Input a number: 2\n",
      "2 x 1 = 2\n",
      "2 x 2 = 4\n",
      "2 x 3 = 6\n",
      "2 x 4 = 8\n",
      "2 x 5 = 10\n",
      "2 x 6 = 12\n",
      "2 x 7 = 14\n",
      "2 x 8 = 16\n",
      "2 x 9 = 18\n",
      "2 x 10 = 20\n"
     ]
    }
   ],
   "source": [
    "n = int(input(\"Input a number: \"))\n",
    "\n",
    "for i in range(1,11):\n",
    "    \n",
    "    print(n,'x',i,'=',n*i)\n",
    "    "
   ]
  },
  {
   "cell_type": "markdown",
   "metadata": {},
   "source": [
    " LESSER OF TWO EVENS: Write a function that returns the lesser of two given numbers *if* both numbers are even, but returns the greater if one or both numbers are odd\n",
    "    lesser_of_two_evens(2,4) --> 2\n",
    "    lesser_of_two_evens(2,5) --> 5"
   ]
  },
  {
   "cell_type": "code",
   "execution_count": 67,
   "metadata": {},
   "outputs": [
    {
     "name": "stdout",
     "output_type": "stream",
     "text": [
      "2\n",
      "5\n"
     ]
    }
   ],
   "source": [
    "def lesser_of_two_evens(a,b):\n",
    "    \n",
    "    if (a % 2 and b % 2) != 0:\n",
    "        \n",
    "        if b > a:\n",
    "            \n",
    "            print(b)\n",
    "            \n",
    "        if a > b:\n",
    "            \n",
    "            print(a)\n",
    "            \n",
    "    elif (a % 2 and b % 2) == 0:\n",
    "        \n",
    "        if a < b:\n",
    "            \n",
    "            print(a)\n",
    "            \n",
    "        else:\n",
    "            \n",
    "            print(b) \n",
    "            \n",
    "    pass\n",
    "\n",
    "lesser_of_two_evens(2,4)\n",
    "\n",
    "lesser_of_two_evens(3,5)\n"
   ]
  },
  {
   "cell_type": "code",
   "execution_count": null,
   "metadata": {},
   "outputs": [],
   "source": []
  }
 ],
 "metadata": {
  "kernelspec": {
   "display_name": "Python 3 (ipykernel)",
   "language": "python",
   "name": "python3"
  },
  "language_info": {
   "codemirror_mode": {
    "name": "ipython",
    "version": 3
   },
   "file_extension": ".py",
   "mimetype": "text/x-python",
   "name": "python",
   "nbconvert_exporter": "python",
   "pygments_lexer": "ipython3",
   "version": "3.9.12"
  }
 },
 "nbformat": 4,
 "nbformat_minor": 2
}
