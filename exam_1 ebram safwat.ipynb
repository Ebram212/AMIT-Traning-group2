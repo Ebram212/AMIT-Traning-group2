{
 "cells": [
  {
   "cell_type": "markdown",
   "metadata": {},
   "source": [
    "# Exam1\n",
    "\n"
   ]
  },
  {
   "cell_type": "markdown",
   "metadata": {},
   "source": [
    "#### LESSER OF TWO EVENS: Write a function that returns the lesser of two given numbers *if* both numbers are even, but returns the greater if one or both numbers are odd\n",
    "    lesser_of_two_evens(2,4) --> 2\n",
    "    lesser_of_two_evens(2,5) --> 5"
   ]
  },
  {
   "cell_type": "code",
   "execution_count": 8,
   "metadata": {},
   "outputs": [
    {
     "name": "stdout",
     "output_type": "stream",
     "text": [
      "2\n",
      "5\n"
     ]
    }
   ],
   "source": [
    "def lesser_of_two_evens(a,b):   #define two variables if both even print even with high order of number if not print odd with high order of number\n",
    "    \n",
    "    if (a % 2 or b % 2) != 0:  # if a or b modelus dont equal 0 \n",
    "        \n",
    "        if b > a:    # if b greater than a\n",
    "            \n",
    "            print(b)  # print b\n",
    "            \n",
    "        if a > b:     # if a greater than b\n",
    "            \n",
    "            print(a)  # print a\n",
    "            \n",
    "    elif (a % 2 and b % 2) == 0:    # else if a and b modelus equal 0 \n",
    "        \n",
    "        if a < b:      # if a less than b\n",
    "            \n",
    "            print(a)   #print a\n",
    "            \n",
    "        else:          # if b less than a\n",
    "            \n",
    "            print(b)   #print b\n",
    "            \n",
    "\n",
    "lesser_of_two_evens(2,4)\n",
    "\n",
    "lesser_of_two_evens(2,5)"
   ]
  },
  {
   "cell_type": "markdown",
   "metadata": {},
   "source": [
    "#### ANIMAL CRACKERS: Write a function takes a two-word string and returns True if both words begin with same letter\n",
    "    animal_crackers('Levelheaded Llama') --> True\n",
    "    animal_crackers('Crazy Kangaroo') --> False"
   ]
  },
  {
   "cell_type": "code",
   "execution_count": 9,
   "metadata": {},
   "outputs": [
    {
     "name": "stdout",
     "output_type": "stream",
     "text": [
      "true\n",
      "false\n"
     ]
    }
   ],
   "source": [
    "def animal_crackers(text):   # define function of animal _crackers\n",
    "    \n",
    "    word=text.split()          # to take every word leter by letter in the string\n",
    "    \n",
    "    result = False             #first the result will be empty\n",
    "    \n",
    "    if word[0][0] == word[1][0]:     #if condution to check the first letter of first word are same or not\n",
    "        \n",
    "        print(\"true\")               #print true       \n",
    "            \n",
    "    else:                           #another case\n",
    "           \n",
    "            print(\"false\")          #print false\n",
    "\n",
    "animal_crackers('Levelheaded Llama')       # first check\n",
    "animal_crackers('Crazy Kangaroo')          # second check"
   ]
  },
  {
   "cell_type": "markdown",
   "metadata": {},
   "source": [
    "#### MAKES TWENTY: Given two integers, return True if the sum of the integers is 20 *or* if one of the integers is 20. If not, return False\n",
    "\n",
    "    makes_twenty(20,10) --> True\n",
    "    makes_twenty(12,8) --> True\n",
    "    makes_twenty(2,3) --> False"
   ]
  },
  {
   "cell_type": "code",
   "execution_count": 10,
   "metadata": {},
   "outputs": [
    {
     "name": "stdout",
     "output_type": "stream",
     "text": [
      "true\n",
      "true\n",
      "false\n"
     ]
    }
   ],
   "source": [
    "def makes_twenty(n1,n2): #define a function calls makes_twenty\n",
    "    \n",
    "    if n1 ==20 or n2 ==20:  #if the sum of n1 equal 20 or the sum of n2 equal 20\n",
    "        \n",
    "        print(\"true\")       #print true \n",
    "        \n",
    "    elif n1 + n2 ==20 :    #else the sum of n1+n2 are equal 20\n",
    "        \n",
    "        print(\"true\")   # print true\n",
    "\n",
    "                \n",
    "    else:       # if not \n",
    "        \n",
    "        print(\"false\")   #print false\n",
    "        \n",
    "# first Check\n",
    "\n",
    "makes_twenty(20,10)\n",
    "\n",
    "# second Check\n",
    "\n",
    "makes_twenty(12,8)\n",
    "\n",
    "# third Check\n",
    "\n",
    "makes_twenty(2,3)"
   ]
  },
  {
   "cell_type": "markdown",
   "metadata": {},
   "source": [
    " OLD MACDONALD: Write a function that capitalizes the first and fourth letters of a name\n",
    "     \n",
    "    old_macdonald('macdonald') --> MacDonald\n",
    "    \n",
    "Note: `'macdonald'.capitalize()` returns `'Macdonald'`"
   ]
  },
  {
   "cell_type": "code",
   "execution_count": 12,
   "metadata": {},
   "outputs": [
    {
     "name": "stdout",
     "output_type": "stream",
     "text": [
      "MacDonald\n"
     ]
    }
   ],
   "source": [
    "def old_macdonald(name):   #define a function calls old_macdonald \n",
    "   \n",
    "    s = ''                   \n",
    "    \n",
    "    for i in range(len(name)): # for loop enter i in range of len of name\n",
    "        \n",
    "        if i == 0:      #if i equal zero \n",
    "            \n",
    "            s =s + name[0].upper()   # adding first letters \n",
    "            \n",
    "        elif i == 3:                 # else if i equal 3\n",
    "            \n",
    "            s =s + name[3].upper()    # adding fourth letters\n",
    "            \n",
    "        else:                         # else \n",
    "            \n",
    "            s =s + name[i]             # adding the another letters in same write \n",
    "            \n",
    "    return s                           \n",
    "\t\n",
    "\n",
    "result = old_macdonald('macdonald')   \n",
    "\n",
    "print(result)"
   ]
  },
  {
   "cell_type": "markdown",
   "metadata": {},
   "source": [
    "#### ALMOST THERE: Given an integer n, return True if n is within 10 of either 100 or 200\n",
    "\n",
    "    almost_there(90) --> True\n",
    "    almost_there(104) --> True\n",
    "    almost_there(150) --> False\n",
    "    almost_there(209) --> True\n",
    "    \n",
    "NOTE: `abs(num)` returns the absolute value of a number"
   ]
  },
  {
   "cell_type": "code",
   "execution_count": 21,
   "metadata": {},
   "outputs": [
    {
     "data": {
      "text/plain": [
       "True"
      ]
     },
     "execution_count": 21,
     "metadata": {},
     "output_type": "execute_result"
    }
   ],
   "source": [
    "def almost_there(n):    #define a function calls almost_there\n",
    "    \n",
    "    return n in range(90,111) or n in range(190,211)#return the same number if it in the range from 90 to 111 or 190 to 211\n",
    "\n",
    "#first Check\n",
    "\n",
    "almost_there(90)"
   ]
  },
  {
   "cell_type": "code",
   "execution_count": 22,
   "metadata": {},
   "outputs": [
    {
     "data": {
      "text/plain": [
       "True"
      ]
     },
     "execution_count": 22,
     "metadata": {},
     "output_type": "execute_result"
    }
   ],
   "source": [
    "#second Check\n",
    "\n",
    "almost_there(104)"
   ]
  },
  {
   "cell_type": "code",
   "execution_count": 23,
   "metadata": {},
   "outputs": [
    {
     "data": {
      "text/plain": [
       "False"
      ]
     },
     "execution_count": 23,
     "metadata": {},
     "output_type": "execute_result"
    }
   ],
   "source": [
    "#third Check\n",
    "\n",
    "almost_there(150)\n"
   ]
  },
  {
   "cell_type": "code",
   "execution_count": 31,
   "metadata": {},
   "outputs": [
    {
     "data": {
      "text/plain": [
       "True"
      ]
     },
     "execution_count": 31,
     "metadata": {},
     "output_type": "execute_result"
    }
   ],
   "source": [
    "#fourth Check\n",
    "\n",
    "almost_there(209)"
   ]
  },
  {
   "cell_type": "markdown",
   "metadata": {},
   "source": [
    "#### FIND 33: \n",
    "\n",
    "Given a list of ints, return True if the array contains a 3 next to a 3 somewhere.\n",
    "\n",
    "    has_33([1, 3, 3]) → True\n",
    "    has_33([1, 3, 1, 3]) → False\n",
    "    has_33([3, 1, 3]) → False"
   ]
  },
  {
   "cell_type": "code",
   "execution_count": 26,
   "metadata": {},
   "outputs": [
    {
     "data": {
      "text/plain": [
       "'True'"
      ]
     },
     "execution_count": 26,
     "metadata": {},
     "output_type": "execute_result"
    }
   ],
   "source": [
    "def has_33(nums):  #define a function calls has_33\n",
    "    \n",
    "    for i in range(len(nums)-1):  #for loop enter i in range (len) (nums)-1 \n",
    "        \n",
    "        if nums[i:i+2] == [3,3]:  #check if number 3 is repeated next to the element list or not\n",
    "            \n",
    "            return \"True\"      #return true if the array contains a 3 next to a 3 somewhere.\n",
    "        \n",
    "    return \"False\"             #return false if not\n",
    "\n",
    "# first Check\n",
    "\n",
    "has_33([1, 3, 3])\n"
   ]
  },
  {
   "cell_type": "code",
   "execution_count": 29,
   "metadata": {},
   "outputs": [
    {
     "data": {
      "text/plain": [
       "'False'"
      ]
     },
     "execution_count": 29,
     "metadata": {},
     "output_type": "execute_result"
    }
   ],
   "source": [
    "# second Check\n",
    "\n",
    "has_33([1, 3, 1, 3])"
   ]
  },
  {
   "cell_type": "code",
   "execution_count": 30,
   "metadata": {},
   "outputs": [
    {
     "data": {
      "text/plain": [
       "'False'"
      ]
     },
     "execution_count": 30,
     "metadata": {},
     "output_type": "execute_result"
    }
   ],
   "source": [
    "# third Check\n",
    "\n",
    "has_33([3, 1, 3])"
   ]
  },
  {
   "cell_type": "markdown",
   "metadata": {},
   "source": [
    "#### PAPER DOLL: Given a string, return a string where for every character in the original there are three characters\n",
    "    paper_doll('Hello') --> 'HHHeeellllllooo'\n",
    "    paper_doll('Mississippi') --> 'MMMiiissssssiiippppppiii'"
   ]
  },
  {
   "cell_type": "code",
   "execution_count": 34,
   "metadata": {},
   "outputs": [
    {
     "data": {
      "text/plain": [
       "'HHHeeellllllooo'"
      ]
     },
     "execution_count": 34,
     "metadata": {},
     "output_type": "execute_result"
    }
   ],
   "source": [
    "def paper_doll(text):    #define a function calls paper_doll\n",
    "    \n",
    "    output=\"\"\n",
    "    \n",
    "    for letter in text :  #for loop enter letter in text\n",
    "        \n",
    "        output+= letter*3  #multiplication every letter *3\n",
    "        \n",
    "    return output          #return the output after change\n",
    "\n",
    "# first Check\n",
    "\n",
    "paper_doll('Hello')\n"
   ]
  },
  {
   "cell_type": "code",
   "execution_count": 54,
   "metadata": {},
   "outputs": [
    {
     "data": {
      "text/plain": [
       "'MMMiiissssssiiissssssiiippppppiii'"
      ]
     },
     "execution_count": 54,
     "metadata": {},
     "output_type": "execute_result"
    }
   ],
   "source": [
    "#second Check\n",
    "paper_doll('Mississippi')"
   ]
  },
  {
   "cell_type": "markdown",
   "metadata": {},
   "source": [
    "#### BLACKJACK: Given three integers between 1 and 11, if their sum is less than or equal to 21, return their sum. If their sum exceeds 21 *and* there's an eleven, reduce the total sum by 10. Finally, if the sum (even after adjustment) exceeds 21, return 'BUST'\n",
    "    blackjack(5,6,7) --> 18\n",
    "    blackjack(9,9,9) --> 'BUST'\n",
    "    blackjack(9,9,11) --> 19"
   ]
  },
  {
   "cell_type": "code",
   "execution_count": 13,
   "metadata": {},
   "outputs": [
    {
     "data": {
      "text/plain": [
       "18"
      ]
     },
     "execution_count": 13,
     "metadata": {},
     "output_type": "execute_result"
    }
   ],
   "source": [
    "def blackjack(a,b,c):  #define a function calls blackjack\n",
    "    \n",
    "    for i in range(0,12):  #for loop enter i in range between 0to12\n",
    "        \n",
    "        if sum((a,b,c)) <= 21:    #if their sum is less than or equal to 21\n",
    "             \n",
    "            return sum((a,b,c))   #return their sum\n",
    "        \n",
    "        elif sum ((a,b,c)) > 21 and 11 in (a,b,c):   #If their sum greater than 21 and there's an eleven\n",
    "            \n",
    "            if a == 11 and sum((a,b,c)) > 21:  #if the sum (even after adjustment) exceeds 21,\n",
    "                \n",
    "                a -= 10  #reduce the total sum by 10\n",
    "                \n",
    "                continue\n",
    "                \n",
    "                if b == 11 and sum((a,b,c)) > 21:    #if the sum (even after adjustment) exceeds 21,\n",
    "                    \n",
    "                    b -= 10     #reduce the total sum by 10\n",
    "                    \n",
    "                    continue\n",
    "                    \n",
    "                    if c == 11 and sum((a,b,c)) > 21:   #if the sum (even after adjustment) exceeds 21,\n",
    "                        \n",
    "                        c -=10\n",
    "                        \n",
    "                        break\n",
    "                        \n",
    "                        return sum((a,b,c))\n",
    "\n",
    "        else:\n",
    "            \n",
    "            return 'Bust'    #return 'BUST'\n",
    "    \n",
    "# first Check\n",
    "blackjack(5,6,7)    \n"
   ]
  },
  {
   "cell_type": "code",
   "execution_count": 14,
   "metadata": {},
   "outputs": [
    {
     "data": {
      "text/plain": [
       "'Bust'"
      ]
     },
     "execution_count": 14,
     "metadata": {},
     "output_type": "execute_result"
    }
   ],
   "source": [
    "#second Check\n",
    "blackjack(9,9,9)"
   ]
  },
  {
   "cell_type": "code",
   "execution_count": 17,
   "metadata": {},
   "outputs": [],
   "source": [
    "#third Check\n",
    "blackjack(9,9,11)"
   ]
  },
  {
   "cell_type": "markdown",
   "metadata": {},
   "source": [
    "#### SUMMER OF '69: Return the sum of the numbers in the array, except ignore sections of numbers starting with a 6 and extending to the next 9 (every 6 will be followed by at least one 9). Return 0 for no numbers.\n",
    " \n",
    "    summer_69([1, 3, 5]) --> 9\n",
    "    summer_69([4, 5, 6, 7, 8, 9]) --> 9\n",
    "    summer_69([2, 1, 6, 9, 11]) --> 14"
   ]
  },
  {
   "cell_type": "code",
   "execution_count": 18,
   "metadata": {},
   "outputs": [
    {
     "data": {
      "text/plain": [
       "9"
      ]
     },
     "execution_count": 18,
     "metadata": {},
     "output_type": "execute_result"
    }
   ],
   "source": [
    "def summer_69(lst):  #define a function calls summer_69\n",
    "    \n",
    "    it = iter(lst)   \n",
    "    \n",
    "    total = 0\n",
    "    \n",
    "    for x in it:\n",
    "        \n",
    "        if x == 6:\n",
    "            \n",
    "            9 in it\n",
    "            \n",
    "        else:\n",
    "            \n",
    "            total += x\n",
    "            \n",
    "    return total\n",
    "\n",
    "#first Check\n",
    "\n",
    "summer_69([1, 3, 5])"
   ]
  },
  {
   "cell_type": "code",
   "execution_count": 19,
   "metadata": {},
   "outputs": [
    {
     "data": {
      "text/plain": [
       "9"
      ]
     },
     "execution_count": 19,
     "metadata": {},
     "output_type": "execute_result"
    }
   ],
   "source": [
    "#second Check\n",
    "summer_69([4, 5, 6, 7, 8, 9])"
   ]
  },
  {
   "cell_type": "code",
   "execution_count": 20,
   "metadata": {},
   "outputs": [
    {
     "data": {
      "text/plain": [
       "14"
      ]
     },
     "execution_count": 20,
     "metadata": {},
     "output_type": "execute_result"
    }
   ],
   "source": [
    "#third Check\n",
    "summer_69([2, 1, 6, 9, 11])"
   ]
  },
  {
   "cell_type": "markdown",
   "metadata": {},
   "source": [
    " SPY GAME: Write a function that takes in a list of integers and returns True if it contains 007 in order\n",
    "\n",
    "     spy_game([1,2,4,0,0,7,5]) --> True\n",
    "     spy_game([1,0,2,4,0,5,7]) --> True\n",
    "     spy_game([1,7,2,0,4,5,0]) --> False\n"
   ]
  },
  {
   "cell_type": "code",
   "execution_count": 44,
   "metadata": {},
   "outputs": [
    {
     "data": {
      "text/plain": [
       "True"
      ]
     },
     "execution_count": 44,
     "metadata": {},
     "output_type": "execute_result"
    }
   ],
   "source": [
    "def spy_game(nums):     \n",
    "    \n",
    "    for x in range(0,len(nums)):\n",
    "        \n",
    "        first_0=nums.index(0)\n",
    "        \n",
    "        second_0=nums.index(0, first_0+1)\n",
    "        \n",
    "        seven=nums.index(7)\n",
    "        \n",
    "        if nums[first_0:second_0+1]!=seven and seven>second_0:\n",
    "            \n",
    "            return True\n",
    "        \n",
    "        else:\n",
    "            \n",
    "            return False\n",
    "        \n",
    "#first Check\n",
    "\n",
    "spy_game([1,2,4,0,0,7,5])                "
   ]
  },
  {
   "cell_type": "code",
   "execution_count": 45,
   "metadata": {},
   "outputs": [
    {
     "data": {
      "text/plain": [
       "True"
      ]
     },
     "execution_count": 45,
     "metadata": {},
     "output_type": "execute_result"
    }
   ],
   "source": [
    "#second Check\n",
    "spy_game([1,0,2,4,0,5,7])"
   ]
  },
  {
   "cell_type": "code",
   "execution_count": 46,
   "metadata": {},
   "outputs": [
    {
     "data": {
      "text/plain": [
       "False"
      ]
     },
     "execution_count": 46,
     "metadata": {},
     "output_type": "execute_result"
    }
   ],
   "source": [
    "#third Check\n",
    "spy_game([1,7,2,0,4,5,0])"
   ]
  },
  {
   "cell_type": "markdown",
   "metadata": {},
   "source": [
    "#### COUNT PRIMES: Write a function that returns the *number* of prime numbers that exist up to and including a given number\n",
    "    count_primes(100) --> 25\n",
    "\n",
    "By convention, 0 and 1 are not prime."
   ]
  },
  {
   "cell_type": "code",
   "execution_count": 48,
   "metadata": {},
   "outputs": [
    {
     "data": {
      "text/plain": [
       "25"
      ]
     },
     "execution_count": 48,
     "metadata": {},
     "output_type": "execute_result"
    }
   ],
   "source": [
    "def count_primes(num):\n",
    "    \n",
    "    i = 0\n",
    "    \n",
    "    for item in range(num+1):\n",
    "        \n",
    "        if item <=1:\n",
    "            \n",
    "            continue\n",
    "            \n",
    "        if item == 2:\n",
    "            \n",
    "            i=1\n",
    "            \n",
    "            continue\n",
    "            \n",
    "        for n in range(2,item):\n",
    "            \n",
    "            if item % n == 0:\n",
    "                \n",
    "                break\n",
    "        else:\n",
    "            i +=1\n",
    "            \n",
    "    return i\n",
    "\n",
    "count_primes(100)\n"
   ]
  },
  {
   "cell_type": "markdown",
   "metadata": {},
   "source": [
    "## Great Job!"
   ]
  }
 ],
 "metadata": {
  "kernelspec": {
   "display_name": "Python 3 (ipykernel)",
   "language": "python",
   "name": "python3"
  },
  "language_info": {
   "codemirror_mode": {
    "name": "ipython",
    "version": 3
   },
   "file_extension": ".py",
   "mimetype": "text/x-python",
   "name": "python",
   "nbconvert_exporter": "python",
   "pygments_lexer": "ipython3",
   "version": "3.9.12"
  }
 },
 "nbformat": 4,
 "nbformat_minor": 2
}
